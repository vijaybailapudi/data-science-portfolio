{
 "cells": [
  {
   "cell_type": "code",
   "execution_count": 1,
   "id": "dff01a72-cea2-447c-9e05-50f5d2c47f15",
   "metadata": {},
   "outputs": [
    {
     "name": "stdout",
     "output_type": "stream",
     "text": [
      "Hello, I'm learning Data Science at age 25. Am I learning? True\n"
     ]
    }
   ],
   "source": [
    "# Variables and Data Types\n",
    "name = \"Data Science\"\n",
    "age = 25\n",
    "is_learning = True\n",
    "print(f\"Hello, I'm learning {name} at age {age}. Am I learning? {is_learning}\")"
   ]
  },
  {
   "cell_type": "code",
   "execution_count": 2,
   "id": "4a87a601-7553-4c3d-b5f8-885f800b6688",
   "metadata": {},
   "outputs": [],
   "source": [
    "\n",
    "# Lists, Tuples, Sets, Dictionaries\n",
    "my_list = [1, 2, 3, 4]\n",
    "my_tuple = (10, 20, 30)\n",
    "my_set = {1, 2, 2, 3}  # removes duplicates automatically\n",
    "my_dict = {\"name\": \"Alice\", \"score\": 95}"
   ]
  },
  {
   "cell_type": "code",
   "execution_count": 3,
   "id": "2a3aa228-d239-453c-8d5b-96339df2e260",
   "metadata": {},
   "outputs": [
    {
     "name": "stdout",
     "output_type": "stream",
     "text": [
      "List: [1, 2, 3, 4]\n",
      "Tuple: (10, 20, 30)\n",
      "Set: {1, 2, 3}\n",
      "Dictionary: {'name': 'Alice', 'score': 95}\n"
     ]
    }
   ],
   "source": [
    "\n",
    "print(\"List:\", my_list)\n",
    "print(\"Tuple:\", my_tuple)\n",
    "print(\"Set:\", my_set)\n",
    "print(\"Dictionary:\", my_dict)"
   ]
  },
  {
   "cell_type": "code",
   "execution_count": 4,
   "id": "b7d27081-2589-4cb3-b893-87f7189e1227",
   "metadata": {},
   "outputs": [
    {
     "name": "stdout",
     "output_type": "stream",
     "text": [
      "Number: 1\n",
      "Number: 2\n",
      "Number: 3\n",
      "Number: 4\n",
      "Number: 5\n"
     ]
    }
   ],
   "source": [
    "# Loop example\n",
    "for i in range(1, 6):\n",
    "    print(\"Number:\", i)"
   ]
  },
  {
   "cell_type": "code",
   "execution_count": 5,
   "id": "3b1818a1-6db4-4b0c-8c74-add306f49d70",
   "metadata": {},
   "outputs": [
    {
     "name": "stdout",
     "output_type": "stream",
     "text": [
      "Square of 5: 25\n"
     ]
    }
   ],
   "source": [
    "# Function example\n",
    "def square(x):\n",
    "    return x**2\n",
    "\n",
    "print(\"Square of 5:\", square(5))"
   ]
  },
  {
   "cell_type": "code",
   "execution_count": null,
   "id": "ab504ee4-eba8-4e8e-b203-1528c690ab91",
   "metadata": {},
   "outputs": [],
   "source": []
  }
 ],
 "metadata": {
  "kernelspec": {
   "display_name": "Python 3 (ipykernel)",
   "language": "python",
   "name": "python3"
  },
  "language_info": {
   "codemirror_mode": {
    "name": "ipython",
    "version": 3
   },
   "file_extension": ".py",
   "mimetype": "text/x-python",
   "name": "python",
   "nbconvert_exporter": "python",
   "pygments_lexer": "ipython3",
   "version": "3.12.4"
  }
 },
 "nbformat": 4,
 "nbformat_minor": 5
}
