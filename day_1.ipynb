{
  "nbformat": 4,
  "nbformat_minor": 0,
  "metadata": {
    "colab": {
      "provenance": [],
      "authorship_tag": "ABX9TyMMoIcnQFz4kXN8YGhc/B7h",
      "include_colab_link": true
    },
    "kernelspec": {
      "name": "python3",
      "display_name": "Python 3"
    },
    "language_info": {
      "name": "python"
    }
  },
  "cells": [
    {
      "cell_type": "markdown",
      "metadata": {
        "id": "view-in-github",
        "colab_type": "text"
      },
      "source": [
        "<a href=\"https://colab.research.google.com/github/vijaybailapudi/data-science-portfolio/blob/main/day_1.ipynb\" target=\"_parent\"><img src=\"https://colab.research.google.com/assets/colab-badge.svg\" alt=\"Open In Colab\"/></a>"
      ]
    },
    {
      "cell_type": "code",
      "execution_count": 1,
      "metadata": {
        "colab": {
          "base_uri": "https://localhost:8080/"
        },
        "id": "NErZ1ATHhoP-",
        "outputId": "1fccc211-8b36-43fc-84ef-0e080926fe0a"
      },
      "outputs": [
        {
          "output_type": "stream",
          "name": "stdout",
          "text": [
            "My name is Vijay, I am 23 years old. Am I learning? True\n",
            "List: [10, 20, 30, 40]\n",
            "Tuple: (1, 2, 3)\n",
            "Set: {1, 2, 3}\n",
            "Dictionary: {'name': 'Vijay', 'role': 'Data Scientist'}\n",
            "Number: 1\n",
            "Number: 2\n",
            "Number: 3\n",
            "Number: 4\n",
            "Number: 5\n",
            "Square of 7: 49\n"
          ]
        }
      ],
      "source": [
        "# Day 1: Python Basics\n",
        "\n",
        "# 1. Variables and Data Types\n",
        "name = \"Vijay\"\n",
        "age = 23\n",
        "is_learning = True\n",
        "print(f\"My name is {name}, I am {age} years old. Am I learning? {is_learning}\")\n",
        "\n",
        "# 2. Data Structures\n",
        "my_list = [10, 20, 30, 40]\n",
        "my_tuple = (1, 2, 3)\n",
        "my_set = {1, 2, 2, 3}   # duplicates auto removed\n",
        "my_dict = {\"name\": \"Vijay\", \"role\": \"Data Scientist\"}\n",
        "\n",
        "print(\"List:\", my_list)\n",
        "print(\"Tuple:\", my_tuple)\n",
        "print(\"Set:\", my_set)\n",
        "print(\"Dictionary:\", my_dict)\n",
        "\n",
        "# 3. Loops\n",
        "for i in range(1, 6):\n",
        "    print(\"Number:\", i)\n",
        "\n",
        "# 4. Function\n",
        "def square(x):\n",
        "    return x**2\n",
        "\n",
        "print(\"Square of 7:\", square(7))\n"
      ]
    },
    {
      "cell_type": "code",
      "source": [
        "# Homework Task\n",
        "def analyze_numbers(numbers):\n",
        "    total = sum(numbers)\n",
        "    mean = total / len(numbers)\n",
        "    maximum = max(numbers)\n",
        "    return [total, mean, maximum]\n",
        "\n",
        "nums = [2, 5, 8, 10]\n",
        "print(analyze_numbers(nums))   # Expected Output: (25, 6.25, 10)\n"
      ],
      "metadata": {
        "colab": {
          "base_uri": "https://localhost:8080/"
        },
        "id": "xBQ4lc9lh5Kj",
        "outputId": "6bd12f4c-b2d0-413e-9b41-6b52d7e33284"
      },
      "execution_count": 3,
      "outputs": [
        {
          "output_type": "stream",
          "name": "stdout",
          "text": [
            "[25, 6.25, 10]\n"
          ]
        }
      ]
    }
  ]
}